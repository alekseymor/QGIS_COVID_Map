{
 "cells": [
  {
   "cell_type": "code",
   "execution_count": 1,
   "id": "92269109",
   "metadata": {},
   "outputs": [
    {
     "name": "stdout",
     "output_type": "stream",
     "text": [
      "Collecting html_table_extractor\n",
      "  Downloading html_table_extractor-1.4.1-py2.py3-none-any.whl (4.8 kB)\n",
      "Requirement already satisfied: beautifulsoup4>=4.0.0 in /Users/aleksey/anaconda3/lib/python3.10/site-packages (from html_table_extractor) (4.11.1)\n",
      "Requirement already satisfied: soupsieve>1.2 in /Users/aleksey/anaconda3/lib/python3.10/site-packages (from beautifulsoup4>=4.0.0->html_table_extractor) (2.3.2.post1)\n",
      "Installing collected packages: html_table_extractor\n",
      "Successfully installed html_table_extractor-1.4.1\n",
      "Note: you may need to restart the kernel to use updated packages.\n"
     ]
    }
   ],
   "source": [
    "#pip install html_table_extractor"
   ]
  },
  {
   "cell_type": "code",
   "execution_count": 2,
   "id": "c6200089",
   "metadata": {},
   "outputs": [],
   "source": [
    "from html_table_extractor.extractor import Extractor\n",
    "import requests\n",
    "from bs4 import BeautifulSoup"
   ]
  },
  {
   "cell_type": "code",
   "execution_count": 5,
   "id": "d3aa37f9",
   "metadata": {},
   "outputs": [
    {
     "name": "stdout",
     "output_type": "stream",
     "text": [
      "File Written\n"
     ]
    }
   ],
   "source": [
    "data = requests.get(\"https://www.worldometers.info/coronavirus/weekly-trends/#weekly_table\")\n",
    "soup = BeautifulSoup(data.content, 'html.parser')\n",
    "extractor = Extractor(soup, id_='main_table_countries_today')\n",
    "file = extractor.parse()\n",
    "file.write_to_csv(path='PATH_TO_DIRECTORY')\n",
    "print('File Written')"
   ]
  }
 ],
 "metadata": {
  "kernelspec": {
   "display_name": "Python 3 (ipykernel)",
   "language": "python",
   "name": "python3"
  },
  "language_info": {
   "codemirror_mode": {
    "name": "ipython",
    "version": 3
   },
   "file_extension": ".py",
   "mimetype": "text/x-python",
   "name": "python",
   "nbconvert_exporter": "python",
   "pygments_lexer": "ipython3",
   "version": "3.10.9"
  }
 },
 "nbformat": 4,
 "nbformat_minor": 5
}
